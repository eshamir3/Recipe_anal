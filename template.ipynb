{
 "cells": [
  {
   "cell_type": "markdown",
   "metadata": {},
   "source": [
    "# Your Title Here\n",
    "\n",
    "**Name(s)**: Emma Shamir, Meera Sharma\n",
    "\n",
    "**Website Link**: https://eshamir3.github.io/Recipe_analzying-/"
   ]
  },
  {
   "cell_type": "code",
   "execution_count": 2,
   "metadata": {
    "ExecuteTime": {
     "end_time": "2019-10-31T23:36:28.652554Z",
     "start_time": "2019-10-31T23:36:27.180520Z"
    }
   },
   "outputs": [],
   "source": [
    "import pandas as pd\n",
    "import numpy as np\n",
    "from pathlib import Path\n",
    "\n",
    "import plotly.express as px\n",
    "pd.options.plotting.backend = 'plotly'\n",
    "\n",
    "import scipy\n",
    "import sklearn.linear_model\n",
    "\n",
    "from dsc80_utils import * # Feel free to uncomment and use this.\n",
    "\n",
    "interactions_fp = Path(\"food_data\") /\"RAW_interactions.csv\"\n",
    "interactions_raw = pd.read_csv(interactions_fp)\n",
    "\n",
    "recipes_fp = Path(\"food_data\") / \"RAW_recipes.csv\"\n",
    "recipes_raw = pd.read_csv(recipes_fp)\n"
   ]
  },
  {
   "cell_type": "markdown",
   "metadata": {},
   "source": [
    "## Step 1: Introduction"
   ]
  },
  {
   "cell_type": "markdown",
   "metadata": {},
   "source": [
    "We chose to analyze the recipes and ratings dataframe. We will investigate the relationship between number of steps in a recipe and the recipe rating. This is an interesting question because it gives us insight into wether there is a relationship between the number of steps a user must go through in order to make a recipe, and their overall rating of the food. If there is a relationship, it would be interesting to understand what might underlie the differences in ratings. "
   ]
  },
  {
   "cell_type": "code",
   "execution_count": 120,
   "metadata": {},
   "outputs": [],
   "source": [
    "#merge datasets \n",
    "\n",
    "recipe_interactions = recipes_raw.merge(interactions_raw, left_on='id', right_on= \"recipe_id\", how = 'left').drop(columns = {'recipe_id'})\n",
    "data_types = pd.DataFrame(recipe_interactions.dtypes)\n",
    "\n",
    "#We replaced ratings of 0 with np.nan, since ratings are made on a 1-5 scale. Therefore, if a rating is 0, it means that the rating is missing,\n",
    "#and should be excluded from the dataset in order to not bias calculations done on the ratings column. \n",
    "recipe_interactions['rating']= recipe_interactions['rating'].replace(0.0, np.nan)\n",
    "\n",
    "#add a column with mean ratings \n",
    "recipe_interactions['avg_rating'] = recipe_interactions.groupby('id')['rating'].transform('mean')\n",
    "\n",
    "#date submitted to datetime\n",
    "recipe_interactions['submitted']= pd.to_datetime(recipe_interactions['submitted'])\n",
    "\n",
    "#date created to datetime\n",
    "recipe_interactions['date']= pd.to_datetime(recipe_interactions['date'])\n",
    "\n",
    "# recipe_interactions = recipe_interactions[recipe_interactions[\"minutes\"] <= 1_440] #cleaning the insane outliers"
   ]
  },
  {
   "cell_type": "code",
   "execution_count": 5,
   "metadata": {},
   "outputs": [],
   "source": [
    "#Univariate Analysis: distribution of ratings\n",
    "\n",
    "frequency = recipe_interactions['rating'].value_counts().reset_index()\n",
    "frequency.columns = ['rating', 'Frequency']\n",
    "\n",
    "fig = px.bar(frequency, x='rating', y='Frequency', \n",
    "             title='Frequency of Rating in Recipe Dataset',\n",
    "             labels={'rating': 'Rating', 'Frequency': 'Count'})\n",
    "\n",
    "#fig.show()\n",
    "\n",
    "#testing exporting it as an HTML file \n",
    "\n",
    "fig.write_html('rating_distributions.html', include_plotlyjs='cdn')"
   ]
  },
  {
   "cell_type": "code",
   "execution_count": 6,
   "metadata": {},
   "outputs": [],
   "source": [
    "#I have made changes, now I pray that this shit works!!!!"
   ]
  },
  {
   "cell_type": "markdown",
   "metadata": {},
   "source": [
    "## Step 2: Data Cleaning and Exploratory Data Analysis"
   ]
  },
  {
   "cell_type": "code",
   "execution_count": 7,
   "metadata": {
    "ExecuteTime": {
     "end_time": "2019-10-31T23:36:28.657068Z",
     "start_time": "2019-10-31T23:36:28.654650Z"
    }
   },
   "outputs": [],
   "source": [
    "# TODO\n",
    "#need to do bivariate analyis \n",
    "\n",
    "fig_2 = px.scatter(recipe_interactions, x = \"n_ingredients\", y = \"n_steps\")\n",
    "#fig_2.show()\n"
   ]
  },
  {
   "cell_type": "code",
   "execution_count": 8,
   "metadata": {},
   "outputs": [],
   "source": [
    "#plotting rating vs time \n",
    "\n",
    "fig_3 = px.scatter(recipe_interactions, x = \"n_steps\", y = 'minutes')\n",
    "\n",
    "#fig_3.show()\n",
    "\n",
    "#we might want to clean this value because it might be a high leverage point "
   ]
  },
  {
   "cell_type": "markdown",
   "metadata": {},
   "source": [
    "## Step 3: Assessment of Missingness"
   ]
  },
  {
   "cell_type": "code",
   "execution_count": 152,
   "metadata": {},
   "outputs": [
    {
     "name": "stdout",
     "output_type": "stream",
     "text": [
      "p value: 0.005\n",
      "significance level: 0.05\n",
      "is description MAR dependent on number of ingredients? True\n"
     ]
    }
   ],
   "source": [
    "#testing whether missingness of description is dependent on number of ingredients \n",
    "missing_test_df = recipe_interactions.copy()\n",
    "missing_test_df[\"missing_description\"] = missing_test_df['description'].isna()\n",
    "\n",
    "\n",
    "\n",
    "group_means = missing_test_df.groupby(\"missing_description\")[\"n_ingredients\"].mean()\n",
    "obs_stat = np.abs(group_means.loc[True] - group_means.loc[False])\n",
    "\n",
    "\n",
    "n_repetitions = 1000 \n",
    "\n",
    "missing_test_diffs = []\n",
    "\n",
    "for i in range(n_repetitions): \n",
    "     missing_test_df[\"shuffled_missing\"] = np.random.permutation(missing_test_df[\"missing_description\"])\n",
    "     description_stat = missing_test_df.groupby(\"shuffled_missing\")[\"n_ingredients\"].mean()\n",
    "     description_stat = np.abs(description_stat.loc[True] - description_stat.loc[False])\n",
    "     missing_test_diffs.append(description_stat)\n",
    "\n",
    "missing_test_p_val = np.mean(missing_test_diffs >= obs_stat)\n",
    "\n",
    "\n",
    "signficance_level = 0.05 \n",
    "\n",
    "significant = missing_test_p_val < signficance_level\n",
    "\n",
    "print(f\"p value: {missing_test_p_val}\")\n",
    "print(f\"significance level: {signficance_level}\")\n",
    "print(f\"is description MAR dependent on number of ingredients? {significant}\")\n"
   ]
  },
  {
   "cell_type": "code",
   "execution_count": 149,
   "metadata": {},
   "outputs": [
    {
     "name": "stdout",
     "output_type": "stream",
     "text": [
      "p value: 0.888\n",
      "significance level: 0.05\n",
      "is rating MAR dependent on number of ingredients? False\n"
     ]
    }
   ],
   "source": [
    "#testing whether missingness of description is dependent on number of length of review\n",
    "missing_test_df = recipe_interactions.copy()\n",
    "missing_test_df[\"missing_description\"] = missing_test_df['description'].isna()\n",
    "\n",
    "\n",
    "missing_test_df['len_review'] = missing_test_df['review'].str.len()\n",
    "group_means = missing_test_df.groupby(\"missing_description\")[\"len_review\"].mean()\n",
    "obs_stat = np.abs(group_means.loc[True] - group_means.loc[False])\n",
    "\n",
    "\n",
    "n_repetitions = 1000 \n",
    "\n",
    "missing_test_diffs = []\n",
    "\n",
    "for i in range(n_repetitions): \n",
    "     missing_test_df[\"shuffled_missing\"] = np.random.permutation(missing_test_df[\"missing_description\"])\n",
    "     description_stat = missing_test_df.groupby(\"shuffled_missing\")[\"len_review\"].mean()\n",
    "     description_stat = np.abs(description_stat.loc[True] - edescription_stat.loc[False])\n",
    "     missing_test_diffs.append(emp_ing_stat)\n",
    "\n",
    "missing_test_p_val = np.mean(missing_test_diffs >= obs_stat)\n",
    "\n",
    "\n",
    "signficance_level = 0.05 \n",
    "\n",
    "significant = missing_test_p_val < signficance_level\n",
    "\n",
    "print(f\"p value: {missing_test_p_val}\")\n",
    "print(f\"significance level: {signficance_level}\")\n",
    "print(f\"is rating MAR dependent on number of ingredients? {significant}\")"
   ]
  },
  {
   "cell_type": "markdown",
   "metadata": {},
   "source": [
    "## Step 4: Hypothesis Testing"
   ]
  },
  {
   "cell_type": "code",
   "execution_count": 13,
   "metadata": {},
   "outputs": [
    {
     "data": {
      "text/plain": [
       "np.float64(49.82922822486933)"
      ]
     },
     "execution_count": 13,
     "metadata": {},
     "output_type": "execute_result"
    }
   ],
   "source": [
    "recipe_interactions\n",
    "\n",
    "#null hypothesis: The rating does not effect the number of steps \n",
    "#alternative hypothesis: The rating does have an effect on number of steps \n",
    "\n",
    "import scipy.stats as stats\n",
    "\n",
    "df = recipe_interactions\n",
    "\n",
    "# Assuming your dataset is already loaded into a DataFrame called `df`\n",
    "# Ensure that the 'rating' and 'steps' columns are correctly named in the DataFrame\n",
    "df = df.dropna(subset=['rating', 'n_steps'])  # Drop rows with missing values in 'rating' or 'steps'\n",
    "\n",
    "# Group data by rating and extract the number of steps for each group\n",
    "rating_groups = [df[df['rating'] == rating]['n_steps'] for rating in range(1, 6)]\n",
    "\n",
    "# Perform one-way ANOVA test\n",
    "f_stat, p_value = stats.f_oneway(*rating_groups)\n",
    "\n",
    "f_stat"
   ]
  },
  {
   "cell_type": "code",
   "execution_count": 14,
   "metadata": {},
   "outputs": [
    {
     "data": {
      "text/plain": [
       "np.int64(100)"
      ]
     },
     "execution_count": 14,
     "metadata": {},
     "output_type": "execute_result"
    }
   ],
   "source": [
    "df['n_steps'].max()"
   ]
  },
  {
   "cell_type": "code",
   "execution_count": 15,
   "metadata": {
    "ExecuteTime": {
     "end_time": "2019-10-31T23:36:28.666489Z",
     "start_time": "2019-10-31T23:36:28.664381Z"
    }
   },
   "outputs": [
    {
     "name": "stdout",
     "output_type": "stream",
     "text": [
      "observed tvd: 5.809777965286577\n",
      "p-value for permutation test: 0.316\n"
     ]
    }
   ],
   "source": [
    "# TODO\n",
    "#null hypothesis: the number of steps does not affect the rating of a recipe\n",
    "#alternative hypothesis: the number of steps does affect the rating of a recipe\n",
    "\n",
    "#first, we want to drop the rows where the rating is na (this will not help us for our permutation test)\n",
    "\n",
    "hyp_df = recipe_interactions.copy()\n",
    "hyp_df = hyp_df.dropna(subset= \"rating\")\n",
    "\n",
    "#test statistic: tvd \n",
    "#the absolute deviation between the mean of each group and the total mean, divided bty 2 \n",
    "obs_group_means = hyp_df.groupby(\"n_steps\")[\"rating\"].mean()\n",
    "uniform_dist = [recipe_interactions[\"rating\"].mean()] * len(obs_group_means)\n",
    "obs_tvd =np.sum(\n",
    "    np.abs(\n",
    "    obs_group_means - uniform_dist\n",
    "    )\n",
    ") / 2\n",
    "\n",
    "print(f\"observed tvd: {obs_tvd}\")\n",
    "\n",
    "#making a new column of shuffled number test]\n",
    "test_stats = []\n",
    "\n",
    "for i in range(1000):\n",
    "    hyp_df[\"shuffled_n_steps\"] = np.random.permutation(hyp_df[\"n_steps\"])\n",
    "    test_group_means = hyp_df.groupby(\"shuffled_n_steps\")[\"rating\"].mean()\n",
    "    emp_tvd = np.sum(np.abs(test_group_means - uniform_dist)) / 2\n",
    "    test_stats.append(emp_tvd)\n",
    "\n",
    "p_val = np.mean(test_stats >= obs_tvd)\n",
    "print(f\"p-value for permutation test: {p_val}\")\n"
   ]
  },
  {
   "cell_type": "markdown",
   "metadata": {},
   "source": [
    "## Step 5: Framing a Prediction Problem"
   ]
  },
  {
   "cell_type": "code",
   "execution_count": 16,
   "metadata": {
    "ExecuteTime": {
     "end_time": "2019-10-31T23:36:28.657068Z",
     "start_time": "2019-10-31T23:36:28.654650Z"
    }
   },
   "outputs": [],
   "source": [
    "# TODO"
   ]
  },
  {
   "cell_type": "markdown",
   "metadata": {},
   "source": [
    "## Step 6: Baseline Model"
   ]
  },
  {
   "cell_type": "code",
   "execution_count": 17,
   "metadata": {},
   "outputs": [
    {
     "data": {
      "text/html": [
       "<div>\n",
       "<style scoped>\n",
       "    .dataframe tbody tr th:only-of-type {\n",
       "        vertical-align: middle;\n",
       "    }\n",
       "\n",
       "    .dataframe tbody tr th {\n",
       "        vertical-align: top;\n",
       "    }\n",
       "\n",
       "    .dataframe thead th {\n",
       "        text-align: right;\n",
       "    }\n",
       "</style>\n",
       "<table border=\"1\" class=\"dataframe\">\n",
       "  <thead>\n",
       "    <tr style=\"text-align: right;\">\n",
       "      <th></th>\n",
       "      <th>name</th>\n",
       "      <th>id</th>\n",
       "      <th>minutes</th>\n",
       "      <th>contributor_id</th>\n",
       "      <th>...</th>\n",
       "      <th>minutes_category</th>\n",
       "      <th>is_dessert</th>\n",
       "      <th>calories</th>\n",
       "      <th>sodium</th>\n",
       "    </tr>\n",
       "  </thead>\n",
       "  <tbody>\n",
       "    <tr>\n",
       "      <th>0</th>\n",
       "      <td>1 brownies in the world    best ever</td>\n",
       "      <td>333281</td>\n",
       "      <td>40</td>\n",
       "      <td>985201</td>\n",
       "      <td>...</td>\n",
       "      <td>Weekday</td>\n",
       "      <td>0</td>\n",
       "      <td>138.4</td>\n",
       "      <td>3.0</td>\n",
       "    </tr>\n",
       "    <tr>\n",
       "      <th>1</th>\n",
       "      <td>1 in canada chocolate chip cookies</td>\n",
       "      <td>453467</td>\n",
       "      <td>45</td>\n",
       "      <td>1848091</td>\n",
       "      <td>...</td>\n",
       "      <td>Weekday</td>\n",
       "      <td>0</td>\n",
       "      <td>595.1</td>\n",
       "      <td>22.0</td>\n",
       "    </tr>\n",
       "    <tr>\n",
       "      <th>2</th>\n",
       "      <td>412 broccoli casserole</td>\n",
       "      <td>306168</td>\n",
       "      <td>40</td>\n",
       "      <td>50969</td>\n",
       "      <td>...</td>\n",
       "      <td>Weekday</td>\n",
       "      <td>0</td>\n",
       "      <td>194.8</td>\n",
       "      <td>32.0</td>\n",
       "    </tr>\n",
       "    <tr>\n",
       "      <th>3</th>\n",
       "      <td>412 broccoli casserole</td>\n",
       "      <td>306168</td>\n",
       "      <td>40</td>\n",
       "      <td>50969</td>\n",
       "      <td>...</td>\n",
       "      <td>Weekday</td>\n",
       "      <td>0</td>\n",
       "      <td>194.8</td>\n",
       "      <td>32.0</td>\n",
       "    </tr>\n",
       "    <tr>\n",
       "      <th>4</th>\n",
       "      <td>412 broccoli casserole</td>\n",
       "      <td>306168</td>\n",
       "      <td>40</td>\n",
       "      <td>50969</td>\n",
       "      <td>...</td>\n",
       "      <td>Weekday</td>\n",
       "      <td>0</td>\n",
       "      <td>194.8</td>\n",
       "      <td>32.0</td>\n",
       "    </tr>\n",
       "  </tbody>\n",
       "</table>\n",
       "<p>5 rows × 21 columns</p>\n",
       "</div>"
      ],
      "text/plain": [
       "                                   name      id  minutes  contributor_id  ...  \\\n",
       "0  1 brownies in the world    best ever  333281       40          985201  ...   \n",
       "1    1 in canada chocolate chip cookies  453467       45         1848091  ...   \n",
       "2                412 broccoli casserole  306168       40           50969  ...   \n",
       "3                412 broccoli casserole  306168       40           50969  ...   \n",
       "4                412 broccoli casserole  306168       40           50969  ...   \n",
       "\n",
       "  minutes_category is_dessert calories  sodium  \n",
       "0          Weekday          0    138.4     3.0  \n",
       "1          Weekday          0    595.1    22.0  \n",
       "2          Weekday          0    194.8    32.0  \n",
       "3          Weekday          0    194.8    32.0  \n",
       "4          Weekday          0    194.8    32.0  \n",
       "\n",
       "[5 rows x 21 columns]"
      ]
     },
     "execution_count": 17,
     "metadata": {},
     "output_type": "execute_result"
    }
   ],
   "source": [
    "#TO DO: need to do all the data cleaning here or up at the beginning just so that the training data and the test data are the same \n",
    "\n",
    "def categorize_mins(time): \n",
    "    if time < 60: \n",
    "        return \"Weekday\"\n",
    "    elif time < 180: \n",
    "        return \"Weekend\"\n",
    "    elif time < 720: \n",
    "        return \"Holiday/Special Occasion\"\n",
    "    else:\n",
    "        return \"Long Term Recipes\"\n",
    "    \n",
    "def clean_nutrition(stri): \n",
    "    result = stri.strip(\"[]\")\n",
    "    result = result.split(\",\")\n",
    "    result = [float(ele) for ele in result]\n",
    "    return result\n",
    "\n",
    "\n",
    "def get_calories(lst): \n",
    "    return lst[0]\n",
    "\n",
    "def get_sodium(lst): \n",
    "    return lst[3]\n",
    "\n",
    "\n",
    "model_recipe_interactions = recipe_interactions.copy()\n",
    "model_recipe_interactions[\"minutes_category\"] = model_recipe_interactions[\"minutes\"].apply(categorize_mins)\n",
    "model_recipe_interactions['is_dessert'] = model_recipe_interactions[\"description\"].fillna(\"\").str.contains(\"dessert\").apply(int) #fix this so that it's whether the tag containes dessert\n",
    "model_recipe_interactions[\"nutrition\"] = model_recipe_interactions[\"nutrition\"].apply(clean_nutrition)\n",
    "model_recipe_interactions[\"calories\"] = model_recipe_interactions[\"nutrition\"].apply(get_calories)\n",
    "model_recipe_interactions[\"sodium\"] = model_recipe_interactions[\"nutrition\"].apply(get_sodium)\n",
    "\n",
    "model_recipe_interactions.head()\n"
   ]
  },
  {
   "cell_type": "code",
   "execution_count": 18,
   "metadata": {},
   "outputs": [],
   "source": [
    "#creating the training and testing data sets \n",
    "\n",
    "from sklearn.model_selection import train_test_split\n",
    "\n",
    "lin_X_train, lin_X_test, lin_y_train, lin_y_test = train_test_split(model_recipe_interactions.drop(columns = [\"minutes\"]), model_recipe_interactions[\"minutes\"])"
   ]
  },
  {
   "cell_type": "code",
   "execution_count": 21,
   "metadata": {
    "ExecuteTime": {
     "end_time": "2019-10-31T23:36:28.662099Z",
     "start_time": "2019-10-31T23:36:28.660016Z"
    }
   },
   "outputs": [
    {
     "data": {
      "text/plain": [
       "0.0017035631246492544"
      ]
     },
     "execution_count": 21,
     "metadata": {},
     "output_type": "execute_result"
    }
   ],
   "source": [
    "# TODO\n",
    "from sklearn.linear_model import LinearRegression\n",
    "#baseline model features: the number of steps and the number of ingredients\n",
    "\n",
    "lin1_X_train = lin_X_train[[\"n_ingredients\", 'n_steps']]\n",
    "lin1_y_train = lin_y_train \n",
    "\n",
    "lin1_X_test = lin_X_test[[\"n_ingredients\", \"n_steps\"]]\n",
    "lin1_y_test = lin_y_test \n",
    "\n",
    "model = LinearRegression()\n",
    "model.fit(lin1_X_train, lin1_y_train)\n",
    "\n",
    "model.score(lin1_X_test, lin1_y_test)\n",
    "\n"
   ]
  },
  {
   "cell_type": "code",
   "execution_count": 22,
   "metadata": {},
   "outputs": [
    {
     "data": {
      "text/plain": [
       "0.0016451063019666812"
      ]
     },
     "execution_count": 22,
     "metadata": {},
     "output_type": "execute_result"
    }
   ],
   "source": [
    "#adding onto the baseline model \n",
    "#let's add a new column to our dataframe that tells us whether the meal is a dessert or not \n",
    "\n",
    "lin2_X_train = lin_X_train[[\"n_ingredients\", \"n_steps\", \"is_dessert\"]]\n",
    "lin2_y_train = lin_y_train\n",
    "\n",
    "lin2_X_test = lin_X_test[[\"n_ingredients\", \"n_steps\", \"is_dessert\"]]\n",
    "lin2_y_test = lin_y_test\n",
    "\n",
    "model_2 = LinearRegression()\n",
    "model_2.fit(lin2_X_train, lin2_y_train)\n",
    "model_2.score(lin2_X_test, lin2_y_test)"
   ]
  },
  {
   "cell_type": "code",
   "execution_count": 24,
   "metadata": {},
   "outputs": [
    {
     "data": {
      "text/plain": [
       "-163.55122109497322"
      ]
     },
     "execution_count": 24,
     "metadata": {},
     "output_type": "execute_result"
    }
   ],
   "source": [
    "#rounding our predictions to the nearest multiple of 5 to see whether we get better accuracy --> because minutes of cook time is ususally rounded to the nearest multiple of 5 \n",
    "from sklearn.metrics import r2_score\n",
    "predictions_unrounded = model_2.predict(lin2_X_test)\n",
    "\n",
    "#to round: \n",
    "\n",
    "rounded_predictions = np.round(predictions_unrounded / 5) * 5 \n",
    "\n",
    "#now to calculate the r^2 of this (to get the score)\n",
    "score = r2_score(rounded_predictions,lin2_y_test)\n",
    "score\n",
    "\n",
    "# how the heck is score negative "
   ]
  },
  {
   "cell_type": "code",
   "execution_count": null,
   "metadata": {},
   "outputs": [
    {
     "data": {
      "text/plain": [
       "0.7180174390249461"
      ]
     },
     "execution_count": 20,
     "metadata": {},
     "output_type": "execute_result"
    }
   ],
   "source": [
    "\n"
   ]
  },
  {
   "cell_type": "code",
   "execution_count": null,
   "metadata": {},
   "outputs": [],
   "source": []
  },
  {
   "cell_type": "code",
   "execution_count": 31,
   "metadata": {},
   "outputs": [
    {
     "data": {
      "text/html": [
       "<div>\n",
       "<style scoped>\n",
       "    .dataframe tbody tr th:only-of-type {\n",
       "        vertical-align: middle;\n",
       "    }\n",
       "\n",
       "    .dataframe tbody tr th {\n",
       "        vertical-align: top;\n",
       "    }\n",
       "\n",
       "    .dataframe thead th {\n",
       "        text-align: right;\n",
       "    }\n",
       "</style>\n",
       "<table border=\"1\" class=\"dataframe\">\n",
       "  <thead>\n",
       "    <tr style=\"text-align: right;\">\n",
       "      <th></th>\n",
       "      <th>name</th>\n",
       "      <th>id</th>\n",
       "      <th>minutes</th>\n",
       "      <th>contributor_id</th>\n",
       "      <th>...</th>\n",
       "      <th>avg_rating</th>\n",
       "      <th>is_dessert</th>\n",
       "      <th>calories</th>\n",
       "      <th>sodium</th>\n",
       "    </tr>\n",
       "  </thead>\n",
       "  <tbody>\n",
       "    <tr>\n",
       "      <th>221097</th>\n",
       "      <td>tuscan ribolitta with garlic parmesan croutons</td>\n",
       "      <td>517502</td>\n",
       "      <td>40</td>\n",
       "      <td>318262</td>\n",
       "      <td>...</td>\n",
       "      <td>5.0</td>\n",
       "      <td>0</td>\n",
       "      <td>414.7</td>\n",
       "      <td>76.0</td>\n",
       "    </tr>\n",
       "    <tr>\n",
       "      <th>97622</th>\n",
       "      <td>green papaya salad ala bobby flay</td>\n",
       "      <td>286558</td>\n",
       "      <td>32</td>\n",
       "      <td>546010</td>\n",
       "      <td>...</td>\n",
       "      <td>5.0</td>\n",
       "      <td>0</td>\n",
       "      <td>253.5</td>\n",
       "      <td>58.0</td>\n",
       "    </tr>\n",
       "    <tr>\n",
       "      <th>56344</th>\n",
       "      <td>colombo curry</td>\n",
       "      <td>318787</td>\n",
       "      <td>50</td>\n",
       "      <td>914943</td>\n",
       "      <td>...</td>\n",
       "      <td>4.0</td>\n",
       "      <td>0</td>\n",
       "      <td>299.5</td>\n",
       "      <td>25.0</td>\n",
       "    </tr>\n",
       "    <tr>\n",
       "      <th>38155</th>\n",
       "      <td>carob cocoa</td>\n",
       "      <td>300053</td>\n",
       "      <td>8</td>\n",
       "      <td>37449</td>\n",
       "      <td>...</td>\n",
       "      <td>5.0</td>\n",
       "      <td>0</td>\n",
       "      <td>226.1</td>\n",
       "      <td>5.0</td>\n",
       "    </tr>\n",
       "    <tr>\n",
       "      <th>216828</th>\n",
       "      <td>tom ka kai  thai coconut chicken soup</td>\n",
       "      <td>303281</td>\n",
       "      <td>35</td>\n",
       "      <td>713116</td>\n",
       "      <td>...</td>\n",
       "      <td>4.5</td>\n",
       "      <td>0</td>\n",
       "      <td>478.4</td>\n",
       "      <td>60.0</td>\n",
       "    </tr>\n",
       "  </tbody>\n",
       "</table>\n",
       "<p>5 rows × 20 columns</p>\n",
       "</div>"
      ],
      "text/plain": [
       "                                                  name      id  minutes  \\\n",
       "221097  tuscan ribolitta with garlic parmesan croutons  517502       40   \n",
       "97622                green papaya salad ala bobby flay  286558       32   \n",
       "56344                                    colombo curry  318787       50   \n",
       "38155                                      carob cocoa  300053        8   \n",
       "216828           tom ka kai  thai coconut chicken soup  303281       35   \n",
       "\n",
       "        contributor_id  ... avg_rating is_dessert calories  sodium  \n",
       "221097          318262  ...        5.0          0    414.7    76.0  \n",
       "97622           546010  ...        5.0          0    253.5    58.0  \n",
       "56344           914943  ...        4.0          0    299.5    25.0  \n",
       "38155            37449  ...        5.0          0    226.1     5.0  \n",
       "216828          713116  ...        4.5          0    478.4    60.0  \n",
       "\n",
       "[5 rows x 20 columns]"
      ]
     },
     "execution_count": 31,
     "metadata": {},
     "output_type": "execute_result"
    }
   ],
   "source": [
    "#ANOTHER IDEA: make minutes into a categorical column and then try to predict the category that a recipe's time is in\n",
    "\n",
    "#examples of categories: Weekday (less than an hour), Weekend (1-3 hours), Holiday/Special Occasion (3-12 hours), Long Term Recipes (> 12 hours)\n",
    "\n",
    "#in order to do this, need to make new test and training data because we're now trying to predict a categorical variable instead of a numerical one \n",
    "\n",
    "cat_X_train, cat_X_test, cat_y_train, cat_y_test = train_test_split(model_recipe_interactions.drop(columns= [\"minutes_category\"]), model_recipe_interactions[\"minutes_category\"])\n",
    "\n",
    "cat_X_train.head()"
   ]
  },
  {
   "cell_type": "code",
   "execution_count": 34,
   "metadata": {},
   "outputs": [
    {
     "data": {
      "text/plain": [
       "0.7000238875238876"
      ]
     },
     "execution_count": 34,
     "metadata": {},
     "output_type": "execute_result"
    }
   ],
   "source": [
    "\n",
    "#new base model: categorize minutes and make a KNN classifier\n",
    "from sklearn.neighbors import KNeighborsClassifier\n",
    "\n",
    "cat1_X_train = cat_X_train[[\"n_ingredients\", \"n_steps\"]]\n",
    "cat1_y_train = cat_y_train \n",
    "\n",
    "cat1_X_test = cat_X_test[[\"n_ingredients\", \"n_steps\"]]\n",
    "cat1_y_test = cat_y_test\n",
    "new_mdl = KNeighborsClassifier()\n",
    "\n",
    "new_mdl.fit(cat1_X_train, cat1_y_train)\n",
    "\n",
    "new_mdl.score(cat1_X_test, cat1_y_test)"
   ]
  },
  {
   "cell_type": "code",
   "execution_count": null,
   "metadata": {},
   "outputs": [
    {
     "data": {
      "text/html": [
       "<div>\n",
       "<style scoped>\n",
       "    .dataframe tbody tr th:only-of-type {\n",
       "        vertical-align: middle;\n",
       "    }\n",
       "\n",
       "    .dataframe tbody tr th {\n",
       "        vertical-align: top;\n",
       "    }\n",
       "\n",
       "    .dataframe thead th {\n",
       "        text-align: right;\n",
       "    }\n",
       "</style>\n",
       "<table border=\"1\" class=\"dataframe\">\n",
       "  <thead>\n",
       "    <tr style=\"text-align: right;\">\n",
       "      <th></th>\n",
       "      <th>name</th>\n",
       "      <th>id</th>\n",
       "      <th>minutes</th>\n",
       "      <th>contributor_id</th>\n",
       "      <th>...</th>\n",
       "      <th>avg_rating</th>\n",
       "      <th>dessert</th>\n",
       "      <th>calories</th>\n",
       "      <th>sodium</th>\n",
       "    </tr>\n",
       "  </thead>\n",
       "  <tbody>\n",
       "    <tr>\n",
       "      <th>0</th>\n",
       "      <td>1 brownies in the world    best ever</td>\n",
       "      <td>333281</td>\n",
       "      <td>40</td>\n",
       "      <td>985201</td>\n",
       "      <td>...</td>\n",
       "      <td>4.0</td>\n",
       "      <td>0</td>\n",
       "      <td>138.4</td>\n",
       "      <td>3.0</td>\n",
       "    </tr>\n",
       "    <tr>\n",
       "      <th>1</th>\n",
       "      <td>1 in canada chocolate chip cookies</td>\n",
       "      <td>453467</td>\n",
       "      <td>45</td>\n",
       "      <td>1848091</td>\n",
       "      <td>...</td>\n",
       "      <td>5.0</td>\n",
       "      <td>0</td>\n",
       "      <td>595.1</td>\n",
       "      <td>22.0</td>\n",
       "    </tr>\n",
       "    <tr>\n",
       "      <th>2</th>\n",
       "      <td>412 broccoli casserole</td>\n",
       "      <td>306168</td>\n",
       "      <td>40</td>\n",
       "      <td>50969</td>\n",
       "      <td>...</td>\n",
       "      <td>5.0</td>\n",
       "      <td>0</td>\n",
       "      <td>194.8</td>\n",
       "      <td>32.0</td>\n",
       "    </tr>\n",
       "    <tr>\n",
       "      <th>...</th>\n",
       "      <td>...</td>\n",
       "      <td>...</td>\n",
       "      <td>...</td>\n",
       "      <td>...</td>\n",
       "      <td>...</td>\n",
       "      <td>...</td>\n",
       "      <td>...</td>\n",
       "      <td>...</td>\n",
       "      <td>...</td>\n",
       "    </tr>\n",
       "    <tr>\n",
       "      <th>234426</th>\n",
       "      <td>cookies by design   sugar shortbread cookies</td>\n",
       "      <td>298509</td>\n",
       "      <td>20</td>\n",
       "      <td>506822</td>\n",
       "      <td>...</td>\n",
       "      <td>3.0</td>\n",
       "      <td>0</td>\n",
       "      <td>174.9</td>\n",
       "      <td>4.0</td>\n",
       "    </tr>\n",
       "    <tr>\n",
       "      <th>234427</th>\n",
       "      <td>cookies by design   sugar shortbread cookies</td>\n",
       "      <td>298509</td>\n",
       "      <td>20</td>\n",
       "      <td>506822</td>\n",
       "      <td>...</td>\n",
       "      <td>3.0</td>\n",
       "      <td>0</td>\n",
       "      <td>174.9</td>\n",
       "      <td>4.0</td>\n",
       "    </tr>\n",
       "    <tr>\n",
       "      <th>234428</th>\n",
       "      <td>cookies by design   sugar shortbread cookies</td>\n",
       "      <td>298509</td>\n",
       "      <td>20</td>\n",
       "      <td>506822</td>\n",
       "      <td>...</td>\n",
       "      <td>3.0</td>\n",
       "      <td>0</td>\n",
       "      <td>174.9</td>\n",
       "      <td>4.0</td>\n",
       "    </tr>\n",
       "  </tbody>\n",
       "</table>\n",
       "<p>234429 rows × 20 columns</p>\n",
       "</div>"
      ],
      "text/plain": [
       "                                                name      id  minutes  \\\n",
       "0               1 brownies in the world    best ever  333281       40   \n",
       "1                 1 in canada chocolate chip cookies  453467       45   \n",
       "2                             412 broccoli casserole  306168       40   \n",
       "...                                              ...     ...      ...   \n",
       "234426  cookies by design   sugar shortbread cookies  298509       20   \n",
       "234427  cookies by design   sugar shortbread cookies  298509       20   \n",
       "234428  cookies by design   sugar shortbread cookies  298509       20   \n",
       "\n",
       "        contributor_id  ... avg_rating dessert calories  sodium  \n",
       "0               985201  ...        4.0       0    138.4     3.0  \n",
       "1              1848091  ...        5.0       0    595.1    22.0  \n",
       "2                50969  ...        5.0       0    194.8    32.0  \n",
       "...                ...  ...        ...     ...      ...     ...  \n",
       "234426          506822  ...        3.0       0    174.9     4.0  \n",
       "234427          506822  ...        3.0       0    174.9     4.0  \n",
       "234428          506822  ...        3.0       0    174.9     4.0  \n",
       "\n",
       "[234429 rows x 20 columns]"
      ]
     },
     "execution_count": 24,
     "metadata": {},
     "output_type": "execute_result"
    }
   ],
   "source": []
  },
  {
   "cell_type": "code",
   "execution_count": null,
   "metadata": {},
   "outputs": [],
   "source": []
  },
  {
   "cell_type": "code",
   "execution_count": null,
   "metadata": {},
   "outputs": [],
   "source": []
  },
  {
   "cell_type": "code",
   "execution_count": null,
   "metadata": {},
   "outputs": [],
   "source": [
    "\n",
    "\n"
   ]
  },
  {
   "cell_type": "code",
   "execution_count": null,
   "metadata": {},
   "outputs": [],
   "source": [
    "# calorie_cv_results = eval_polynomial_col(X, y, poly_degrees, \"calories\")"
   ]
  },
  {
   "cell_type": "code",
   "execution_count": null,
   "metadata": {},
   "outputs": [],
   "source": [
    "# calorie_cv_results[\"accuracy\"].apply(type)"
   ]
  },
  {
   "cell_type": "markdown",
   "metadata": {},
   "source": [
    "## Step 7: Final Model"
   ]
  },
  {
   "cell_type": "code",
   "execution_count": 39,
   "metadata": {
    "ExecuteTime": {
     "end_time": "2019-10-31T23:36:28.662099Z",
     "start_time": "2019-10-31T23:36:28.660016Z"
    }
   },
   "outputs": [],
   "source": [
    "# TODO\n",
    "\n",
    "#only need to do cross validation for hyperparameters like n\n",
    "\n",
    "#use grid search CV \n",
    "\n",
    "from sklearn.compose import ColumnTransformer\n",
    "from sklearn.preprocessing import StandardScaler\n",
    "from sklearn.pipeline import Pipeline\n",
    "from sklearn.model_selection import train_test_split\n",
    "from sklearn.neighbors import KNeighborsClassifier"
   ]
  },
  {
   "cell_type": "code",
   "execution_count": 40,
   "metadata": {},
   "outputs": [],
   "source": [
    "#FINAL MODEL\n",
    "\n",
    "#transformers: \n",
    "#want to standardize calories and sodium \n",
    "#desert is one hot encoded already technically \n",
    "#using n_ingredients and n_steps as is \n",
    "\n",
    "final_col_transform = ColumnTransformer(\n",
    "    transformers= [(\"std_cals\", StandardScaler(), [\"calories\"]),(\"std_sodium\", StandardScaler(), ['sodium']) \n",
    "                   ], remainder = \"passthrough\"\n",
    ")\n",
    "\n",
    "final_pipe = Pipeline([\n",
    "    (\"column_transformations\", final_col_transform), (\"model\", KNeighborsClassifier())\n",
    "    ])"
   ]
  },
  {
   "cell_type": "code",
   "execution_count": 41,
   "metadata": {},
   "outputs": [
    {
     "data": {
      "text/plain": [
       "0.8308933933933934"
      ]
     },
     "execution_count": 41,
     "metadata": {},
     "output_type": "execute_result"
    }
   ],
   "source": [
    "final_X_train = cat_X_train[[\"n_ingredients\", \"n_steps\", \"calories\", \"sodium\", \"is_dessert\"]]\n",
    "final_y_train = cat_y_train\n",
    "\n",
    "final_X_test = cat_X_test[[\"n_ingredients\", \"n_steps\", \"calories\", \"sodium\", \"is_dessert\"]]\n",
    "final_y_test = cat_y_test\n",
    "\n",
    "\n",
    "\n",
    "final_pipe.fit(final_X_train, final_y_train)\n",
    "\n",
    "final_pipe.score(final_X_test, final_y_test)"
   ]
  },
  {
   "cell_type": "code",
   "execution_count": 42,
   "metadata": {},
   "outputs": [
    {
     "name": "stdout",
     "output_type": "stream",
     "text": [
      "Fitting 5 folds for each of 16 candidates, totalling 80 fits\n"
     ]
    },
    {
     "data": {
      "text/plain": [
       "0.9998009339043686"
      ]
     },
     "execution_count": 42,
     "metadata": {},
     "output_type": "execute_result"
    }
   ],
   "source": [
    "#Grid Search CV in order to find the best hyperparameters for the KNN classifier \n",
    "from sklearn.model_selection import GridSearchCV\n",
    "\n",
    "param_grid = {\n",
    "    'n_neighbors': [3, 5, 7, 10],  # List of neighbors to try\n",
    "    'weights': ['uniform', 'distance'],  # Weight options\n",
    "    'metric': ['euclidean', 'manhattan']}  # Distance metric options \n",
    "grid_search = GridSearchCV(estimator= KNeighborsClassifier(), param_grid=param_grid, \n",
    "                           cv=5, scoring='accuracy', verbose=1)\n",
    "\n",
    "grid_search.fit(final_X_train, final_y_train)\n",
    "\n",
    "\n",
    "best_params = grid_search.best_params_\n",
    "best_final_model = grid_search.best_estimator_\n",
    "\n",
    "best_final_model.score(final_X_train, final_y_train)"
   ]
  },
  {
   "cell_type": "code",
   "execution_count": null,
   "metadata": {},
   "outputs": [
    {
     "data": {
      "text/plain": [
       "{'metric': 'manhattan', 'n_neighbors': 10, 'weights': 'distance'}"
      ]
     },
     "execution_count": 32,
     "metadata": {},
     "output_type": "execute_result"
    }
   ],
   "source": [
    "best_params"
   ]
  },
  {
   "cell_type": "code",
   "execution_count": 44,
   "metadata": {},
   "outputs": [],
   "source": [
    "final_model_predicts = best_final_model.predict(final_X_test)"
   ]
  },
  {
   "cell_type": "code",
   "execution_count": 45,
   "metadata": {},
   "outputs": [
    {
     "data": {
      "text/plain": [
       "0.9171444171444172"
      ]
     },
     "execution_count": 45,
     "metadata": {},
     "output_type": "execute_result"
    }
   ],
   "source": [
    "best_final_model.score(final_X_test, final_y_test)"
   ]
  },
  {
   "cell_type": "markdown",
   "metadata": {},
   "source": [
    "## Step 8: Fairness Analysis"
   ]
  },
  {
   "cell_type": "code",
   "execution_count": 54,
   "metadata": {
    "ExecuteTime": {
     "end_time": "2019-10-31T23:36:28.666489Z",
     "start_time": "2019-10-31T23:36:28.664381Z"
    }
   },
   "outputs": [
    {
     "data": {
      "text/plain": [
       "Index(['name', 'id', 'minutes', 'contributor_id', 'submitted', 'tags',\n",
       "       'nutrition', 'n_steps', 'steps', 'description', 'ingredients',\n",
       "       'n_ingredients', 'user_id', 'date', 'rating', 'review', 'avg_rating',\n",
       "       'is_dessert', 'calories', 'sodium', 'minutes_category', 'low_rating',\n",
       "       'predicted_label'],\n",
       "      dtype='object')"
      ]
     },
     "execution_count": 54,
     "metadata": {},
     "output_type": "execute_result"
    }
   ],
   "source": [
    "# TODO\n",
    "fairness_df = cat_X_test.copy()\n",
    "fairness_df[\"minutes_category\"] = cat_y_test\n",
    "fairness_df[\"low_rating\"] = fairness_df[\"rating\"].apply(lambda x: x < 3)\n",
    "\n",
    "fairness_df[\"predicted_label\"] = final_model_predicts\n",
    "\n",
    "fairness_df.columns\n",
    "\n",
    "\n"
   ]
  },
  {
   "cell_type": "code",
   "execution_count": 56,
   "metadata": {},
   "outputs": [
    {
     "name": "stdout",
     "output_type": "stream",
     "text": [
      "0.974 is our p_value\n",
      "model fair?: True\n"
     ]
    }
   ],
   "source": [
    "from sklearn.metrics import accuracy_score\n",
    "\n",
    "get_accuracy = lambda x: accuracy_score(x['predicted_label'], x['minutes_category'])\n",
    "\n",
    "obs_stat = (fairness_df\n",
    "       .groupby('low_rating')\n",
    "       [['predicted_label', 'minutes_category']]\n",
    "       .apply(get_accuracy)\n",
    "       .diff()\n",
    "       .iloc[-1])\n",
    "\n",
    "diff_in_acc = []\n",
    "for _ in range(500):\n",
    "    s = (\n",
    "        fairness_df[['low_rating', 'predicted_label', 'minutes_category']]\n",
    "        .assign(is_low=np.random.permutation(fairness_df['low_rating']))\n",
    "        .groupby('is_low')\n",
    "        [['predicted_label', 'minutes_category']]\n",
    "        .apply(get_accuracy)\n",
    "        .diff()\n",
    "        .iloc[-1]\n",
    "    )\n",
    "    \n",
    "    diff_in_acc.append(s)\n",
    "\n",
    "\n",
    "p_val = np.mean(diff_in_acc >= obs_stat)\n",
    "p_val\n",
    "\n",
    "significant = p_val >= 0.05\n",
    "\n",
    "print(f\"{p_val} is our p_value\")\n",
    "print(f\"model fair?: {significant}\")"
   ]
  },
  {
   "cell_type": "code",
   "execution_count": null,
   "metadata": {},
   "outputs": [],
   "source": []
  },
  {
   "cell_type": "code",
   "execution_count": null,
   "metadata": {},
   "outputs": [],
   "source": []
  }
 ],
 "metadata": {
  "kernelspec": {
   "display_name": "Python 3 (ipykernel)",
   "language": "python",
   "name": "python3"
  },
  "language_info": {
   "codemirror_mode": {
    "name": "ipython",
    "version": 3
   },
   "file_extension": ".py",
   "mimetype": "text/x-python",
   "name": "python",
   "nbconvert_exporter": "python",
   "pygments_lexer": "ipython3",
   "version": "3.12.6"
  }
 },
 "nbformat": 4,
 "nbformat_minor": 4
}
